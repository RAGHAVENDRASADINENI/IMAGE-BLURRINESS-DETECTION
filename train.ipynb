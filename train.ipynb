{
 "cells": [
  {
   "cell_type": "code",
   "execution_count": 1,
   "id": "3289683d",
   "metadata": {},
   "outputs": [],
   "source": [
    "# Imporing the Librares\n",
    "import numpy as np\n",
    "import pandas as pd\n",
    "import matplotlib.pyplot as plt\n",
    "from tensorflow import keras\n",
    "from tensorflow.keras.preprocessing.image import ImageDataGenerator\n",
    "from keras.models import Sequential\n",
    "from keras.layers import Conv2D,MaxPool2D,BatchNormalization\n",
    "from keras.layers import Dense,Dropout,Flatten,Activation\n",
    "from tensorflow.keras.callbacks import ModelCheckpoint\n",
    "import warnings\n",
    "warnings.filterwarnings(\"ignore\")"
   ]
  },
  {
   "cell_type": "code",
   "execution_count": 2,
   "id": "2c51d8ff",
   "metadata": {},
   "outputs": [],
   "source": [
    "# Base path\n",
    "data=r\"C:\\Users\\Dell\\Desktop\\CloudSEK\\TrainingSet\\TrainingSet\""
   ]
  },
  {
   "cell_type": "code",
   "execution_count": 3,
   "id": "d5da8e4e",
   "metadata": {},
   "outputs": [
    {
     "name": "stdout",
     "output_type": "stream",
     "text": [
      "Found 800 images belonging to 3 classes.\n",
      "Found 200 images belonging to 3 classes.\n"
     ]
    }
   ],
   "source": [
    "# using ImageGenerator to load the images\n",
    "image_data= {\"train\": ImageDataGenerator(horizontal_flip=True,rescale=1/255,\n",
    "                                         validation_split=0.2,shear_range=0.2,\n",
    "                                         zoom_range=0.2,).flow_from_directory(directory=data,\n",
    "                                                                              target_size=(256,256),\n",
    "                                                                              subset=\"training\"),\n",
    "             \"valid\": ImageDataGenerator(rescale=1/255,validation_split=0.2,\n",
    "                                         ).flow_from_directory(directory=data,target_size=(256,256),\n",
    "                                                               subset=\"validation\",),\n",
    "             }"
   ]
  },
  {
   "cell_type": "code",
   "execution_count": 4,
   "id": "ee3a20c1",
   "metadata": {},
   "outputs": [
    {
     "name": "stdout",
     "output_type": "stream",
     "text": [
      "Model: \"sequential\"\n",
      "_________________________________________________________________\n",
      " Layer (type)                Output Shape              Param #   \n",
      "=================================================================\n",
      " conv2d (Conv2D)             (None, 256, 256, 32)      896       \n",
      "                                                                 \n",
      " batch_normalization (BatchN  (None, 256, 256, 32)     128       \n",
      " ormalization)                                                   \n",
      "                                                                 \n",
      " conv2d_1 (Conv2D)           (None, 256, 256, 32)      9248      \n",
      "                                                                 \n",
      " dropout (Dropout)           (None, 256, 256, 32)      0         \n",
      "                                                                 \n",
      " max_pooling2d (MaxPooling2D  (None, 128, 128, 32)     0         \n",
      " )                                                               \n",
      "                                                                 \n",
      " flatten (Flatten)           (None, 524288)            0         \n",
      "                                                                 \n",
      " dense (Dense)               (None, 128)               67108992  \n",
      "                                                                 \n",
      " dropout_1 (Dropout)         (None, 128)               0         \n",
      "                                                                 \n",
      " dense_1 (Dense)             (None, 3)                 387       \n",
      "                                                                 \n",
      "=================================================================\n",
      "Total params: 67,119,651\n",
      "Trainable params: 67,119,587\n",
      "Non-trainable params: 64\n",
      "_________________________________________________________________\n"
     ]
    }
   ],
   "source": [
    "# using sequential ti build a cnn\n",
    "model=Sequential()\n",
    "model.add(Conv2D(32,(3,3),activation='relu',input_shape=(256,256,3),padding='same'))\n",
    "model.add(BatchNormalization())\n",
    "model.add(Conv2D(32,(3,3),activation='relu',padding='same'))\n",
    "model.add(Dropout(0.20))\n",
    "model.add(MaxPool2D(pool_size=(2,2)))\n",
    "model.add(Flatten())\n",
    "model.add(Dense(128,activation='relu'))\n",
    "model.add(Dropout(0.30))\n",
    "model.add(Dense(3,activation='softmax'))\n",
    "model.compile(optimizer='adam',loss='categorical_crossentropy',metrics=['accuracy'])\n",
    "model.summary()"
   ]
  },
  {
   "cell_type": "code",
   "execution_count": 14,
   "id": "b4c2e377",
   "metadata": {},
   "outputs": [
    {
     "name": "stdout",
     "output_type": "stream",
     "text": [
      "Model: \"sequential_2\"\n",
      "_________________________________________________________________\n",
      " Layer (type)                Output Shape              Param #   \n",
      "=================================================================\n",
      " conv2d_5 (Conv2D)           (None, 256, 256, 32)      896       \n",
      "                                                                 \n",
      " batch_normalization_2 (Batc  (None, 256, 256, 32)     128       \n",
      " hNormalization)                                                 \n",
      "                                                                 \n",
      " conv2d_6 (Conv2D)           (None, 256, 256, 64)      18496     \n",
      "                                                                 \n",
      " max_pooling2d_2 (MaxPooling  (None, 128, 128, 64)     0         \n",
      " 2D)                                                             \n",
      "                                                                 \n",
      " dropout_5 (Dropout)         (None, 128, 128, 64)      0         \n",
      "                                                                 \n",
      " flatten_2 (Flatten)         (None, 1048576)           0         \n",
      "                                                                 \n",
      " dropout_6 (Dropout)         (None, 1048576)           0         \n",
      "                                                                 \n",
      " dense_4 (Dense)             (None, 3)                 3145731   \n",
      "                                                                 \n",
      "=================================================================\n",
      "Total params: 3,165,251\n",
      "Trainable params: 3,165,187\n",
      "Non-trainable params: 64\n",
      "_________________________________________________________________\n"
     ]
    }
   ],
   "source": [
    "model=Sequential()\n",
    "model.add(Conv2D(32,(3,3),activation='relu',input_shape=(256,256,3),padding='same'))\n",
    "model.add(BatchNormalization())\n",
    "model.add(Conv2D(64,(3,3),activation='relu',padding='same'))\n",
    "model.add(MaxPool2D(pool_size=(2,2)))\n",
    "model.add(Dropout(0.20))\n",
    "model.add(Flatten())\n",
    "model.add(Dropout(0.30))\n",
    "model.add(Dense(3,activation='softmax'))\n",
    "model.compile(optimizer='adam',loss='categorical_crossentropy',metrics=['accuracy'])\n",
    "model.summary()"
   ]
  },
  {
   "cell_type": "code",
   "execution_count": 15,
   "id": "95bd5cdd",
   "metadata": {},
   "outputs": [],
   "source": [
    "# Setting variables for the model\n",
    "batch_size = 32\n",
    "epochs = 10"
   ]
  },
  {
   "cell_type": "code",
   "execution_count": 16,
   "id": "67a8ab05",
   "metadata": {},
   "outputs": [],
   "source": [
    "# Seperating Training and Testing Data\n",
    "train_generator = image_data[\"train\"]\n",
    "valid_generator = image_data[\"valid\"]"
   ]
  },
  {
   "cell_type": "code",
   "execution_count": 17,
   "id": "40b640e0",
   "metadata": {},
   "outputs": [],
   "source": [
    "# Calculating variables for the model\n",
    "steps_per_epoch = train_generator.n // batch_size\n",
    "validation_steps = valid_generator.n // batch_size"
   ]
  },
  {
   "cell_type": "code",
   "execution_count": 18,
   "id": "2bf3b67f",
   "metadata": {},
   "outputs": [
    {
     "name": "stdout",
     "output_type": "stream",
     "text": [
      "steps_per_epoch : 25\n",
      "validation_steps : 6\n"
     ]
    }
   ],
   "source": [
    "print(\"steps_per_epoch :\", steps_per_epoch)\n",
    "print(\"validation_steps :\", validation_steps)"
   ]
  },
  {
   "cell_type": "code",
   "execution_count": 19,
   "id": "9d318033",
   "metadata": {},
   "outputs": [],
   "source": [
    "# File Path to store the trained models\n",
    "filepath = \"C:\\\\Users\\\\Dell\\\\Desktop\\\\cloudsek\\\\model_{epoch:02d}-{val_accuracy:.2f}.h5\""
   ]
  },
  {
   "cell_type": "code",
   "execution_count": 20,
   "id": "a7bdbfa6",
   "metadata": {},
   "outputs": [],
   "source": [
    "# Using the ModelCheckpoint function to train and store all the best models\n",
    "checkpoint1 = ModelCheckpoint(filepath, monitor='val_accuracy', verbose=1, save_best_only=True, mode='max')"
   ]
  },
  {
   "cell_type": "code",
   "execution_count": 21,
   "id": "31aa240d",
   "metadata": {},
   "outputs": [],
   "source": [
    "callbacks_list = [checkpoint1]"
   ]
  },
  {
   "cell_type": "code",
   "execution_count": 22,
   "id": "11d51a10",
   "metadata": {},
   "outputs": [
    {
     "name": "stdout",
     "output_type": "stream",
     "text": [
      "Epoch 1/10\n",
      "25/25 [==============================] - ETA: 0s - loss: 36.0387 - accuracy: 0.4913\n",
      "Epoch 1: val_accuracy improved from -inf to 0.55729, saving model to C:\\Users\\Dell\\Desktop\\cloudsek\\model_01-0.56.h5\n",
      "25/25 [==============================] - 263s 10s/step - loss: 36.0387 - accuracy: 0.4913 - val_loss: 1.7458 - val_accuracy: 0.5573\n",
      "Epoch 2/10\n",
      "25/25 [==============================] - ETA: 0s - loss: 5.1635 - accuracy: 0.6375\n",
      "Epoch 2: val_accuracy improved from 0.55729 to 0.68750, saving model to C:\\Users\\Dell\\Desktop\\cloudsek\\model_02-0.69.h5\n",
      "25/25 [==============================] - 274s 11s/step - loss: 5.1635 - accuracy: 0.6375 - val_loss: 0.8124 - val_accuracy: 0.6875\n",
      "Epoch 3/10\n",
      "25/25 [==============================] - ETA: 0s - loss: 3.5739 - accuracy: 0.6837 \n",
      "Epoch 3: val_accuracy improved from 0.68750 to 0.73438, saving model to C:\\Users\\Dell\\Desktop\\cloudsek\\model_03-0.73.h5\n",
      "25/25 [==============================] - 305s 12s/step - loss: 3.5739 - accuracy: 0.6837 - val_loss: 0.7804 - val_accuracy: 0.7344\n",
      "Epoch 4/10\n",
      "25/25 [==============================] - ETA: 0s - loss: 1.6683 - accuracy: 0.7138\n",
      "Epoch 4: val_accuracy improved from 0.73438 to 0.75521, saving model to C:\\Users\\Dell\\Desktop\\cloudsek\\model_04-0.76.h5\n",
      "25/25 [==============================] - 250s 10s/step - loss: 1.6683 - accuracy: 0.7138 - val_loss: 0.7995 - val_accuracy: 0.7552\n",
      "Epoch 5/10\n",
      "25/25 [==============================] - ETA: 0s - loss: 0.8519 - accuracy: 0.7750\n",
      "Epoch 5: val_accuracy did not improve from 0.75521\n",
      "25/25 [==============================] - 185s 7s/step - loss: 0.8519 - accuracy: 0.7750 - val_loss: 0.8173 - val_accuracy: 0.6354\n",
      "Epoch 6/10\n",
      "25/25 [==============================] - ETA: 0s - loss: 0.7607 - accuracy: 0.7700\n",
      "Epoch 6: val_accuracy did not improve from 0.75521\n",
      "25/25 [==============================] - 204s 8s/step - loss: 0.7607 - accuracy: 0.7700 - val_loss: 0.7443 - val_accuracy: 0.7448\n",
      "Epoch 7/10\n",
      "25/25 [==============================] - ETA: 0s - loss: 0.6584 - accuracy: 0.8087\n",
      "Epoch 7: val_accuracy improved from 0.75521 to 0.79688, saving model to C:\\Users\\Dell\\Desktop\\cloudsek\\model_07-0.80.h5\n",
      "25/25 [==============================] - 203s 8s/step - loss: 0.6584 - accuracy: 0.8087 - val_loss: 0.7349 - val_accuracy: 0.7969\n",
      "Epoch 8/10\n",
      "25/25 [==============================] - ETA: 0s - loss: 0.4032 - accuracy: 0.8400\n",
      "Epoch 8: val_accuracy did not improve from 0.79688\n",
      "25/25 [==============================] - 196s 8s/step - loss: 0.4032 - accuracy: 0.8400 - val_loss: 0.6740 - val_accuracy: 0.7448\n",
      "Epoch 9/10\n",
      "25/25 [==============================] - ETA: 0s - loss: 0.4573 - accuracy: 0.8375\n",
      "Epoch 9: val_accuracy did not improve from 0.79688\n",
      "25/25 [==============================] - 201s 8s/step - loss: 0.4573 - accuracy: 0.8375 - val_loss: 0.6302 - val_accuracy: 0.7448\n",
      "Epoch 10/10\n",
      "25/25 [==============================] - ETA: 0s - loss: 0.3563 - accuracy: 0.8637\n",
      "Epoch 10: val_accuracy did not improve from 0.79688\n",
      "25/25 [==============================] - 198s 8s/step - loss: 0.3563 - accuracy: 0.8637 - val_loss: 0.6243 - val_accuracy: 0.7344\n"
     ]
    }
   ],
   "source": [
    "# building the model\n",
    "history = model.fit_generator(generator=train_generator, epochs=epochs, steps_per_epoch=steps_per_epoch,\n",
    "                              validation_data=valid_generator, validation_steps=validation_steps,\n",
    "                              callbacks=callbacks_list)"
   ]
  },
  {
   "cell_type": "code",
   "execution_count": 24,
   "id": "47f42d89",
   "metadata": {},
   "outputs": [],
   "source": [
    "# taking the records of accuracy and val_accuracy\n",
    "accuracy=history.history[\"accuracy\"]\n",
    "val_accuracy=history.history[\"val_accuracy\"]"
   ]
  },
  {
   "cell_type": "code",
   "execution_count": 25,
   "id": "d30df3bf",
   "metadata": {},
   "outputs": [],
   "source": [
    "# taking the records of loss and val_loss\n",
    "loss=history.history[\"loss\"]\n",
    "val_loss=history.history[\"val_loss\"]"
   ]
  },
  {
   "cell_type": "code",
   "execution_count": 28,
   "id": "5ab4705b",
   "metadata": {},
   "outputs": [
    {
     "data": {
      "text/plain": [
       "Text(0.5, 1.0, 'Acuuracy of Training and Validation')"
      ]
     },
     "execution_count": 28,
     "metadata": {},
     "output_type": "execute_result"
    },
    {
     "data": {
      "image/png": "[encoded data removed]",
      "text/plain": [
       "<Figure size 800x800 with 1 Axes>"
      ]
     },
     "metadata": {},
     "output_type": "display_data"
    }
   ],
   "source": [
    "# accuracy and val_accuracy plots\n",
    "plt.figure(figsize=(8, 8))\n",
    "plt.subplot(2, 1, 1)\n",
    "plt.plot(accuracy, label='Accuracy of Training')\n",
    "plt.plot(val_accuracy, label='Accuracy of Validation')\n",
    "plt.legend(loc='upper right')\n",
    "plt.ylabel('Accuracy')\n",
    "plt.ylim([min(plt.ylim()),1])\n",
    "plt.title('Acuuracy of Training and Validation')"
   ]
  },
  {
   "cell_type": "code",
   "execution_count": 29,
   "id": "8e36c3f2",
   "metadata": {},
   "outputs": [
    {
     "data": {
      "image/png": "[encoded data removed]",
      "text/plain": [
       "<Figure size 640x480 with 1 Axes>"
      ]
     },
     "metadata": {},
     "output_type": "display_data"
    }
   ],
   "source": [
    "# loss and val_loss plots\n",
    "plt.subplot(2, 1, 2)\n",
    "plt.plot(loss, label='Training Loss')\n",
    "plt.plot(val_loss, label='Validation Loss')\n",
    "plt.legend(loc='upper right')\n",
    "plt.ylabel('Cross Entropy')\n",
    "plt.ylim([0,max(plt.ylim())])\n",
    "plt.title('Training and Validation Loss')\n",
    "plt.show()"
   ]
  },
  {
   "cell_type": "code",
   "execution_count": 34,
   "id": "c32f1a2e",
   "metadata": {},
   "outputs": [
    {
     "name": "stdout",
     "output_type": "stream",
     "text": [
      "7/7 [==============================] - 14s 2s/step - loss: 0.6409 - accuracy: 0.7300\n"
     ]
    }
   ],
   "source": [
    "# Calculate the Loss and Accuracy on the Validation Data\n",
    "test_loss, test_acc = model.evaluate(valid_generator)\n"
   ]
  },
  {
   "cell_type": "code",
   "execution_count": 33,
   "id": "e472ca54",
   "metadata": {},
   "outputs": [
    {
     "name": "stdout",
     "output_type": "stream",
     "text": [
      "0.7300000190734863\n"
     ]
    }
   ],
   "source": [
    "print(test_acc)"
   ]
  },
  {
   "cell_type": "code",
   "execution_count": null,
   "id": "4eddca93",
   "metadata": {},
   "outputs": [],
   "source": []
  }
 ],
 "metadata": {
  "kernelspec": {
   "display_name": "Python 3 (ipykernel)",
   "language": "python",
   "name": "python3"
  },
  "language_info": {
   "codemirror_mode": {
    "name": "ipython",
    "version": 3
   },
   "file_extension": ".py",
   "mimetype": "text/x-python",
   "name": "python",
   "nbconvert_exporter": "python",
   "pygments_lexer": "ipython3",
   "version": "3.9.16"
  }
 },
 "nbformat": 4,
 "nbformat_minor": 5
}
